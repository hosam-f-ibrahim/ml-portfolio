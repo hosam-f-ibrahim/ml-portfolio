{
  "nbformat": 4,
  "nbformat_minor": 0,
  "metadata": {
    "colab": {
      "provenance": [],
      "authorship_tag": "ABX9TyObDpR0sAyKa3idiCUkkVOA",
      "include_colab_link": true
    },
    "kernelspec": {
      "name": "python3",
      "display_name": "Python 3"
    },
    "language_info": {
      "name": "python"
    }
  },
  "cells": [
    {
      "cell_type": "markdown",
      "metadata": {
        "id": "view-in-github",
        "colab_type": "text"
      },
      "source": [
        "<a href=\"https://colab.research.google.com/github/hosam-f-ibrahim/ml-portfolio/blob/main/hello_function_and_list.ipynb\" target=\"_parent\"><img src=\"https://colab.research.google.com/assets/colab-badge.svg\" alt=\"Open In Colab\"/></a>"
      ]
    },
    {
      "cell_type": "markdown",
      "source": [
        "# Hello Python Notebook\n",
        "This notebook demonstrates very basic Python coding:\n",
        "- Defining and using a function\n",
        "- Transforming a list of numbers\n",
        "- Displaying results\n",
        "\n",
        "It is the first step in building my Machine Learning portfolio."
      ],
      "metadata": {
        "id": "nI7CF3mjlBFf"
      }
    },
    {
      "cell_type": "code",
      "source": [
        "# Simple Hello World\n",
        "print(\"Hello, Python World!\")\n"
      ],
      "metadata": {
        "colab": {
          "base_uri": "https://localhost:8080/"
        },
        "id": "GFxZt1X6lG2H",
        "outputId": "10fa2768-def3-4539-e3ff-77b63991a916"
      },
      "execution_count": 19,
      "outputs": [
        {
          "output_type": "stream",
          "name": "stdout",
          "text": [
            "Hello, Python World!\n"
          ]
        }
      ]
    },
    {
      "cell_type": "markdown",
      "source": [
        "## Example 1: A simple function\n",
        "Here we define a function that adds two numbers and returns the result.\n"
      ],
      "metadata": {
        "id": "yNdpJfiClb0W"
      }
    },
    {
      "cell_type": "code",
      "source": [
        "def add_numbers(a, b):\n",
        "    \"\"\"Return the sum of two numbers.\"\"\"\n",
        "    return a + b\n",
        "\n",
        "# Test the function\n",
        "print(\"3 + 7 =\", add_numbers(3, 7))\n"
      ],
      "metadata": {
        "colab": {
          "base_uri": "https://localhost:8080/"
        },
        "id": "gosAE8cRliu6",
        "outputId": "b77d469c-b45c-44b0-d8d8-0628d79e7109"
      },
      "execution_count": 20,
      "outputs": [
        {
          "output_type": "stream",
          "name": "stdout",
          "text": [
            "3 + 7 = 10\n"
          ]
        }
      ]
    },
    {
      "cell_type": "markdown",
      "source": [
        "## Example 2: List transformation\n",
        "We often need to transform lists of data in ML (e.g., squaring values, normalizing).\n",
        "Here is a simple example using Python list comprehension.\n"
      ],
      "metadata": {
        "id": "4zzO6229lnm3"
      }
    },
    {
      "cell_type": "code",
      "source": [
        "numbers = [1, 2, 3, 4, 5]\n",
        "\n",
        "# Square each number\n",
        "squares = [n**2 for n in numbers]\n",
        "\n",
        "print(\"Original numbers:\", numbers)\n",
        "print(\"Squared numbers:\", squares)\n"
      ],
      "metadata": {
        "colab": {
          "base_uri": "https://localhost:8080/"
        },
        "id": "zlWaaSWFls76",
        "outputId": "90918451-41eb-48c5-e5a5-ed55a3923ff7"
      },
      "execution_count": 21,
      "outputs": [
        {
          "output_type": "stream",
          "name": "stdout",
          "text": [
            "Original numbers: [1, 2, 3, 4, 5]\n",
            "Squared numbers: [1, 4, 9, 16, 25]\n"
          ]
        }
      ]
    },
    {
      "cell_type": "markdown",
      "source": [
        "## Example 3: Combining functions with transformations\n",
        "Let's use our function inside a list transformation.\n"
      ],
      "metadata": {
        "id": "HzUogZGNlxOt"
      }
    },
    {
      "cell_type": "code",
      "source": [
        "# Add 10 to each number using add_numbers()\n",
        "plus_ten = [add_numbers(n, 10) for n in numbers]\n",
        "\n",
        "print(\"Numbers plus 10:\", plus_ten)\n"
      ],
      "metadata": {
        "colab": {
          "base_uri": "https://localhost:8080/"
        },
        "id": "43PPg9zSl0pa",
        "outputId": "b325c127-66c1-4055-8543-eb439312b50c"
      },
      "execution_count": 22,
      "outputs": [
        {
          "output_type": "stream",
          "name": "stdout",
          "text": [
            "Numbers plus 10: [11, 12, 13, 14, 15]\n"
          ]
        }
      ]
    },
    {
      "cell_type": "markdown",
      "source": [
        "# Summary\n",
        "- We created and used a Python function.\n",
        "- We performed list transformations using comprehension.\n",
        "- This workflow (write code → run → document in Markdown) is the basis for all ML notebooks.\n"
      ],
      "metadata": {
        "id": "ki3BJH1el5EZ"
      }
    }
  ]
}